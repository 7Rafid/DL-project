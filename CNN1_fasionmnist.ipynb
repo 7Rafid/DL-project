{
  "nbformat": 4,
  "nbformat_minor": 0,
  "metadata": {
    "colab": {
      "provenance": [],
      "authorship_tag": "ABX9TyOMxdBnJWzeKPPDaiyEXt/P",
      "include_colab_link": true
    },
    "kernelspec": {
      "name": "python3",
      "display_name": "Python 3"
    },
    "language_info": {
      "name": "python"
    },
    "accelerator": "GPU"
  },
  "cells": [
    {
      "cell_type": "markdown",
      "metadata": {
        "id": "view-in-github",
        "colab_type": "text"
      },
      "source": [
        "<a href=\"https://colab.research.google.com/github/7Rafid/DL-project/blob/master/CNN1_fasionmnist.ipynb\" target=\"_parent\"><img src=\"https://colab.research.google.com/assets/colab-badge.svg\" alt=\"Open In Colab\"/></a>"
      ]
    },
    {
      "cell_type": "code",
      "execution_count": null,
      "metadata": {
        "id": "S16epA7jWTH_"
      },
      "outputs": [],
      "source": [
        "import matplotlib.pyplot as plt\n",
        "import numpy as np\n",
        "\n",
        "import tensorflow as tf\n",
        "from tensorflow.keras.datasets import fashion_mnist\n",
        "from tensorflow.keras.models import Sequential\n",
        "from tensorflow.keras.layers import Flatten, Dense, Conv2D, MaxPooling2D, Dropout\n",
        "from tensorflow.keras.optimizers import Adam\n",
        "from tensorflow.keras.losses import SparseCategoricalCrossentropy"
      ]
    },
    {
      "cell_type": "code",
      "source": [
        "(x_train, y_train),(x_test,y_test) = fashion_mnist.load_data()"
      ],
      "metadata": {
        "colab": {
          "base_uri": "https://localhost:8080/"
        },
        "id": "a5GuXP-yX9_1",
        "outputId": "f68be1de-03e8-499e-e4e8-6093ffbb43fe"
      },
      "execution_count": null,
      "outputs": [
        {
          "output_type": "stream",
          "name": "stdout",
          "text": [
            "Downloading data from https://storage.googleapis.com/tensorflow/tf-keras-datasets/train-labels-idx1-ubyte.gz\n",
            "32768/29515 [=================================] - 0s 0us/step\n",
            "40960/29515 [=========================================] - 0s 0us/step\n",
            "Downloading data from https://storage.googleapis.com/tensorflow/tf-keras-datasets/train-images-idx3-ubyte.gz\n",
            "26427392/26421880 [==============================] - 0s 0us/step\n",
            "26435584/26421880 [==============================] - 0s 0us/step\n",
            "Downloading data from https://storage.googleapis.com/tensorflow/tf-keras-datasets/t10k-labels-idx1-ubyte.gz\n",
            "16384/5148 [===============================================================================================] - 0s 0us/step\n",
            "Downloading data from https://storage.googleapis.com/tensorflow/tf-keras-datasets/t10k-images-idx3-ubyte.gz\n",
            "4423680/4422102 [==============================] - 0s 0us/step\n",
            "4431872/4422102 [==============================] - 0s 0us/step\n"
          ]
        }
      ]
    },
    {
      "cell_type": "code",
      "source": [
        "x_train.shape,x_test.shape"
      ],
      "metadata": {
        "colab": {
          "base_uri": "https://localhost:8080/"
        },
        "id": "yqpC7jpSYKy9",
        "outputId": "edb0ab06-27a9-48d7-d1a6-130ce3a51c5a"
      },
      "execution_count": null,
      "outputs": [
        {
          "output_type": "execute_result",
          "data": {
            "text/plain": [
              "((60000, 28, 28), (10000, 28, 28))"
            ]
          },
          "metadata": {},
          "execution_count": 4
        }
      ]
    },
    {
      "cell_type": "code",
      "source": [
        "x_train[0].shape"
      ],
      "metadata": {
        "colab": {
          "base_uri": "https://localhost:8080/"
        },
        "id": "QWYlzdG-YRF8",
        "outputId": "0a376b25-6eed-4cbb-91cf-41bfcd7c4f57"
      },
      "execution_count": null,
      "outputs": [
        {
          "output_type": "execute_result",
          "data": {
            "text/plain": [
              "(28, 28)"
            ]
          },
          "metadata": {},
          "execution_count": 5
        }
      ]
    },
    {
      "cell_type": "code",
      "source": [
        "\n",
        "classes = {0: 'T-shirt/top',\n",
        "1: 'Trouser',\n",
        "2: 'Pullover',\n",
        "3: 'Dress',\n",
        "4: 'Coat',\n",
        "5: 'Sandal',\n",
        "6: 'Shirt',\n",
        "7: 'Sneaker',\n",
        "8: 'Bag',\n",
        "9: 'Ankle boot'}"
      ],
      "metadata": {
        "id": "sjCeY0h-YkCC"
      },
      "execution_count": null,
      "outputs": []
    },
    {
      "cell_type": "code",
      "source": [
        "plt.matshow(x_train[150])"
      ],
      "metadata": {
        "colab": {
          "base_uri": "https://localhost:8080/",
          "height": 292
        },
        "id": "ZfDSFEXUbA6O",
        "outputId": "e23b0706-91c2-4857-a281-80551bcbb920"
      },
      "execution_count": null,
      "outputs": [
        {
          "output_type": "execute_result",
          "data": {
            "text/plain": [
              "<matplotlib.image.AxesImage at 0x7f920704db50>"
            ]
          },
          "metadata": {},
          "execution_count": 7
        },
        {
          "output_type": "display_data",
          "data": {
            "text/plain": [
              "<Figure size 288x288 with 1 Axes>"
            ],
            "image/png": "[encoded data removed]"
          },
          "metadata": {
            "needs_background": "light"
          }
        }
      ]
    },
    {
      "cell_type": "code",
      "source": [
        "classes[y_train[15]]"
      ],
      "metadata": {
        "colab": {
          "base_uri": "https://localhost:8080/",
          "height": 36
        },
        "id": "QyhQ9oPZbO5j",
        "outputId": "b5eb8b38-1f23-4b30-e1bd-856fe2982782"
      },
      "execution_count": null,
      "outputs": [
        {
          "output_type": "execute_result",
          "data": {
            "text/plain": [
              "'Ankle boot'"
            ],
            "application/vnd.google.colaboratory.intrinsic+json": {
              "type": "string"
            }
          },
          "metadata": {},
          "execution_count": 8
        }
      ]
    },
    {
      "cell_type": "code",
      "source": [
        "# (batch, width, height, channels)\n",
        "x_train = x_train.reshape((x_train.shape[0], 28,28,1))\n",
        "x_test = x_test.reshape((x_test.shape[0],28,28,1))"
      ],
      "metadata": {
        "id": "hRKocDUqbYcL"
      },
      "execution_count": null,
      "outputs": []
    },
    {
      "cell_type": "code",
      "source": [
        "model = Sequential()\n",
        "model.add(Conv2D(32,(3,3), input_shape=(28,28,1), strides = (2,2), padding = 'same', activation='relu'))\n",
        "model.add(MaxPooling2D(pool_size=(2,2)))\n",
        "model.add(Dropout(0.5))\n",
        "model.add(Conv2D(32, (3,3), activation='relu'))\n",
        "model.add(Conv2D(32,(3,3), activation='relu'))\n",
        "model.add(Flatten())\n",
        "model.add(Dense(32,activation='relu'))\n",
        "model.add(Dense(10, activation='softmax'))"
      ],
      "metadata": {
        "id": "vVlYwFHmuIff"
      },
      "execution_count": null,
      "outputs": []
    },
    {
      "cell_type": "code",
      "source": [
        "model.compile(loss='SparseCategoricalCrossentropy',optimizer=Adam(), metrics=['accuracy'])\n",
        "callback = tf.keras.callbacks.EarlyStopping(monitor='val_accuracy', patience=10)"
      ],
      "metadata": {
        "id": "A5FD8u8PveLy"
      },
      "execution_count": null,
      "outputs": []
    },
    {
      "cell_type": "code",
      "source": [
        "trained_history = model.fit(x_train,y_train, batch_size=1000, epochs=150, validation_data=(x_test,y_test), callbacks=callback)"
      ],
      "metadata": {
        "colab": {
          "base_uri": "https://localhost:8080/"
        },
        "id": "jR-y4UetwM8g",
        "outputId": "81760850-2b09-42ee-a83c-fb2096624e3f"
      },
      "execution_count": null,
      "outputs": [
        {
          "output_type": "stream",
          "name": "stdout",
          "text": [
            "Epoch 1/150\n",
            "60/60 [==============================] - 12s 11ms/step - loss: 4.4552 - accuracy: 0.1033 - val_loss: 2.3026 - val_accuracy: 0.0999\n",
            "Epoch 2/150\n",
            "60/60 [==============================] - 0s 8ms/step - loss: 2.3026 - accuracy: 0.1005 - val_loss: 2.3026 - val_accuracy: 0.1000\n",
            "Epoch 3/150\n",
            "60/60 [==============================] - 0s 8ms/step - loss: 2.2091 - accuracy: 0.1509 - val_loss: 2.0253 - val_accuracy: 0.2210\n",
            "Epoch 4/150\n",
            "60/60 [==============================] - 0s 8ms/step - loss: 1.9239 - accuracy: 0.2537 - val_loss: 1.7818 - val_accuracy: 0.3047\n",
            "Epoch 5/150\n",
            "60/60 [==============================] - 0s 8ms/step - loss: 1.7700 - accuracy: 0.3063 - val_loss: 1.7063 - val_accuracy: 0.3344\n",
            "Epoch 6/150\n",
            "60/60 [==============================] - 0s 8ms/step - loss: 1.7060 - accuracy: 0.3339 - val_loss: 1.6659 - val_accuracy: 0.3468\n",
            "Epoch 7/150\n",
            "60/60 [==============================] - 0s 8ms/step - loss: 1.6635 - accuracy: 0.3511 - val_loss: 1.6257 - val_accuracy: 0.3595\n",
            "Epoch 8/150\n",
            "60/60 [==============================] - 0s 8ms/step - loss: 1.6078 - accuracy: 0.3685 - val_loss: 1.4519 - val_accuracy: 0.4267\n",
            "Epoch 9/150\n",
            "60/60 [==============================] - 0s 8ms/step - loss: 1.3779 - accuracy: 0.4883 - val_loss: 1.2420 - val_accuracy: 0.5301\n",
            "Epoch 10/150\n",
            "60/60 [==============================] - 0s 8ms/step - loss: 1.2600 - accuracy: 0.5260 - val_loss: 1.2091 - val_accuracy: 0.5588\n",
            "Epoch 11/150\n",
            "60/60 [==============================] - 0s 8ms/step - loss: 1.1918 - accuracy: 0.5506 - val_loss: 1.1080 - val_accuracy: 0.5999\n",
            "Epoch 12/150\n",
            "60/60 [==============================] - 0s 8ms/step - loss: 1.0802 - accuracy: 0.5909 - val_loss: 0.9304 - val_accuracy: 0.6565\n",
            "Epoch 13/150\n",
            "60/60 [==============================] - 0s 8ms/step - loss: 0.9076 - accuracy: 0.6483 - val_loss: 0.8083 - val_accuracy: 0.6956\n",
            "Epoch 14/150\n",
            "60/60 [==============================] - 0s 8ms/step - loss: 0.8322 - accuracy: 0.6797 - val_loss: 0.7604 - val_accuracy: 0.7164\n",
            "Epoch 15/150\n",
            "60/60 [==============================] - 1s 8ms/step - loss: 0.7902 - accuracy: 0.7014 - val_loss: 0.7230 - val_accuracy: 0.7305\n",
            "Epoch 16/150\n",
            "60/60 [==============================] - 0s 8ms/step - loss: 0.7604 - accuracy: 0.7148 - val_loss: 0.7030 - val_accuracy: 0.7356\n",
            "Epoch 17/150\n",
            "60/60 [==============================] - 0s 8ms/step - loss: 0.7398 - accuracy: 0.7248 - val_loss: 0.6962 - val_accuracy: 0.7383\n",
            "Epoch 18/150\n",
            "60/60 [==============================] - 0s 8ms/step - loss: 0.7157 - accuracy: 0.7306 - val_loss: 0.6644 - val_accuracy: 0.7473\n",
            "Epoch 19/150\n",
            "60/60 [==============================] - 0s 8ms/step - loss: 0.6959 - accuracy: 0.7368 - val_loss: 0.6531 - val_accuracy: 0.7543\n",
            "Epoch 20/150\n",
            "60/60 [==============================] - 0s 8ms/step - loss: 0.6724 - accuracy: 0.7455 - val_loss: 0.6287 - val_accuracy: 0.7557\n",
            "Epoch 21/150\n",
            "60/60 [==============================] - 0s 8ms/step - loss: 0.6370 - accuracy: 0.7573 - val_loss: 0.5888 - val_accuracy: 0.7734\n",
            "Epoch 22/150\n",
            "60/60 [==============================] - 0s 8ms/step - loss: 0.5980 - accuracy: 0.7727 - val_loss: 0.5395 - val_accuracy: 0.7949\n",
            "Epoch 23/150\n",
            "60/60 [==============================] - 0s 8ms/step - loss: 0.5734 - accuracy: 0.7792 - val_loss: 0.5239 - val_accuracy: 0.7997\n",
            "Epoch 24/150\n",
            "60/60 [==============================] - 0s 8ms/step - loss: 0.5556 - accuracy: 0.7873 - val_loss: 0.5113 - val_accuracy: 0.8030\n",
            "Epoch 25/150\n",
            "60/60 [==============================] - 0s 8ms/step - loss: 0.5379 - accuracy: 0.7927 - val_loss: 0.5144 - val_accuracy: 0.7991\n",
            "Epoch 26/150\n",
            "60/60 [==============================] - 0s 8ms/step - loss: 0.5301 - accuracy: 0.7963 - val_loss: 0.4877 - val_accuracy: 0.8147\n",
            "Epoch 27/150\n",
            "60/60 [==============================] - 0s 8ms/step - loss: 0.5146 - accuracy: 0.8024 - val_loss: 0.4787 - val_accuracy: 0.8231\n",
            "Epoch 28/150\n",
            "60/60 [==============================] - 0s 8ms/step - loss: 0.5093 - accuracy: 0.8079 - val_loss: 0.4746 - val_accuracy: 0.8251\n",
            "Epoch 29/150\n",
            "60/60 [==============================] - 0s 8ms/step - loss: 0.4956 - accuracy: 0.8133 - val_loss: 0.4612 - val_accuracy: 0.8319\n",
            "Epoch 30/150\n",
            "60/60 [==============================] - 0s 8ms/step - loss: 0.4867 - accuracy: 0.8170 - val_loss: 0.4525 - val_accuracy: 0.8336\n",
            "Epoch 31/150\n",
            "60/60 [==============================] - 1s 9ms/step - loss: 0.4783 - accuracy: 0.8236 - val_loss: 0.4440 - val_accuracy: 0.8360\n",
            "Epoch 32/150\n",
            "60/60 [==============================] - 0s 8ms/step - loss: 0.4728 - accuracy: 0.8248 - val_loss: 0.4419 - val_accuracy: 0.8439\n",
            "Epoch 33/150\n",
            "60/60 [==============================] - 0s 8ms/step - loss: 0.4647 - accuracy: 0.8295 - val_loss: 0.4342 - val_accuracy: 0.8409\n",
            "Epoch 34/150\n",
            "60/60 [==============================] - 0s 8ms/step - loss: 0.4593 - accuracy: 0.8319 - val_loss: 0.4321 - val_accuracy: 0.8472\n",
            "Epoch 35/150\n",
            "60/60 [==============================] - 0s 8ms/step - loss: 0.4495 - accuracy: 0.8347 - val_loss: 0.4261 - val_accuracy: 0.8487\n",
            "Epoch 36/150\n",
            "60/60 [==============================] - 0s 8ms/step - loss: 0.4449 - accuracy: 0.8396 - val_loss: 0.4320 - val_accuracy: 0.8444\n",
            "Epoch 37/150\n",
            "60/60 [==============================] - 0s 8ms/step - loss: 0.4439 - accuracy: 0.8389 - val_loss: 0.4170 - val_accuracy: 0.8548\n",
            "Epoch 38/150\n",
            "60/60 [==============================] - 0s 8ms/step - loss: 0.4347 - accuracy: 0.8424 - val_loss: 0.4114 - val_accuracy: 0.8564\n",
            "Epoch 39/150\n",
            "60/60 [==============================] - 1s 8ms/step - loss: 0.4372 - accuracy: 0.8412 - val_loss: 0.4118 - val_accuracy: 0.8577\n",
            "Epoch 40/150\n",
            "60/60 [==============================] - 0s 8ms/step - loss: 0.4289 - accuracy: 0.8446 - val_loss: 0.4125 - val_accuracy: 0.8563\n",
            "Epoch 41/150\n",
            "60/60 [==============================] - 0s 8ms/step - loss: 0.4250 - accuracy: 0.8481 - val_loss: 0.4098 - val_accuracy: 0.8575\n",
            "Epoch 42/150\n",
            "60/60 [==============================] - 0s 8ms/step - loss: 0.4201 - accuracy: 0.8489 - val_loss: 0.4084 - val_accuracy: 0.8553\n",
            "Epoch 43/150\n",
            "60/60 [==============================] - 0s 8ms/step - loss: 0.4155 - accuracy: 0.8498 - val_loss: 0.3930 - val_accuracy: 0.8641\n",
            "Epoch 44/150\n",
            "60/60 [==============================] - 0s 8ms/step - loss: 0.4127 - accuracy: 0.8509 - val_loss: 0.3928 - val_accuracy: 0.8600\n",
            "Epoch 45/150\n",
            "60/60 [==============================] - 0s 8ms/step - loss: 0.4102 - accuracy: 0.8508 - val_loss: 0.3985 - val_accuracy: 0.8613\n",
            "Epoch 46/150\n",
            "60/60 [==============================] - 0s 8ms/step - loss: 0.4087 - accuracy: 0.8526 - val_loss: 0.3950 - val_accuracy: 0.8605\n",
            "Epoch 47/150\n",
            "60/60 [==============================] - 0s 8ms/step - loss: 0.4037 - accuracy: 0.8553 - val_loss: 0.3830 - val_accuracy: 0.8652\n",
            "Epoch 48/150\n",
            "60/60 [==============================] - 0s 8ms/step - loss: 0.3986 - accuracy: 0.8570 - val_loss: 0.3836 - val_accuracy: 0.8645\n",
            "Epoch 49/150\n",
            "60/60 [==============================] - 0s 8ms/step - loss: 0.3979 - accuracy: 0.8561 - val_loss: 0.3777 - val_accuracy: 0.8696\n",
            "Epoch 50/150\n",
            "60/60 [==============================] - 0s 8ms/step - loss: 0.3915 - accuracy: 0.8595 - val_loss: 0.3752 - val_accuracy: 0.8700\n",
            "Epoch 51/150\n",
            "60/60 [==============================] - 0s 8ms/step - loss: 0.3912 - accuracy: 0.8602 - val_loss: 0.3756 - val_accuracy: 0.8708\n",
            "Epoch 52/150\n",
            "60/60 [==============================] - 0s 8ms/step - loss: 0.3869 - accuracy: 0.8597 - val_loss: 0.3752 - val_accuracy: 0.8675\n",
            "Epoch 53/150\n",
            "60/60 [==============================] - 0s 8ms/step - loss: 0.3855 - accuracy: 0.8608 - val_loss: 0.3718 - val_accuracy: 0.8727\n",
            "Epoch 54/150\n",
            "60/60 [==============================] - 0s 8ms/step - loss: 0.3858 - accuracy: 0.8597 - val_loss: 0.3680 - val_accuracy: 0.8713\n",
            "Epoch 55/150\n",
            "60/60 [==============================] - 0s 8ms/step - loss: 0.3809 - accuracy: 0.8632 - val_loss: 0.3684 - val_accuracy: 0.8705\n",
            "Epoch 56/150\n",
            "60/60 [==============================] - 1s 8ms/step - loss: 0.3756 - accuracy: 0.8646 - val_loss: 0.3628 - val_accuracy: 0.8752\n",
            "Epoch 57/150\n",
            "60/60 [==============================] - 0s 8ms/step - loss: 0.3772 - accuracy: 0.8626 - val_loss: 0.3689 - val_accuracy: 0.8694\n",
            "Epoch 58/150\n",
            "60/60 [==============================] - 0s 8ms/step - loss: 0.3693 - accuracy: 0.8656 - val_loss: 0.3630 - val_accuracy: 0.8725\n",
            "Epoch 59/150\n",
            "60/60 [==============================] - 0s 8ms/step - loss: 0.3700 - accuracy: 0.8670 - val_loss: 0.3580 - val_accuracy: 0.8747\n",
            "Epoch 60/150\n",
            "60/60 [==============================] - 0s 8ms/step - loss: 0.3658 - accuracy: 0.8675 - val_loss: 0.3574 - val_accuracy: 0.8726\n",
            "Epoch 61/150\n",
            "60/60 [==============================] - 0s 8ms/step - loss: 0.3637 - accuracy: 0.8688 - val_loss: 0.3567 - val_accuracy: 0.8770\n",
            "Epoch 62/150\n",
            "60/60 [==============================] - 0s 8ms/step - loss: 0.3580 - accuracy: 0.8698 - val_loss: 0.3524 - val_accuracy: 0.8765\n",
            "Epoch 63/150\n",
            "60/60 [==============================] - 0s 8ms/step - loss: 0.3551 - accuracy: 0.8722 - val_loss: 0.3490 - val_accuracy: 0.8775\n",
            "Epoch 64/150\n",
            "60/60 [==============================] - 0s 8ms/step - loss: 0.3519 - accuracy: 0.8724 - val_loss: 0.3480 - val_accuracy: 0.8792\n",
            "Epoch 65/150\n",
            "60/60 [==============================] - 1s 8ms/step - loss: 0.3484 - accuracy: 0.8734 - val_loss: 0.3470 - val_accuracy: 0.8780\n",
            "Epoch 66/150\n",
            "60/60 [==============================] - 0s 8ms/step - loss: 0.3485 - accuracy: 0.8723 - val_loss: 0.3389 - val_accuracy: 0.8801\n",
            "Epoch 67/150\n",
            "60/60 [==============================] - 1s 9ms/step - loss: 0.3409 - accuracy: 0.8750 - val_loss: 0.3469 - val_accuracy: 0.8779\n",
            "Epoch 68/150\n",
            "60/60 [==============================] - 0s 8ms/step - loss: 0.3432 - accuracy: 0.8749 - val_loss: 0.3456 - val_accuracy: 0.8792\n",
            "Epoch 69/150\n",
            "60/60 [==============================] - 1s 8ms/step - loss: 0.3367 - accuracy: 0.8759 - val_loss: 0.3400 - val_accuracy: 0.8805\n",
            "Epoch 70/150\n",
            "60/60 [==============================] - 0s 8ms/step - loss: 0.3383 - accuracy: 0.8768 - val_loss: 0.3411 - val_accuracy: 0.8806\n",
            "Epoch 71/150\n",
            "60/60 [==============================] - 0s 8ms/step - loss: 0.3392 - accuracy: 0.8765 - val_loss: 0.3346 - val_accuracy: 0.8822\n",
            "Epoch 72/150\n",
            "60/60 [==============================] - 1s 9ms/step - loss: 0.3335 - accuracy: 0.8781 - val_loss: 0.3351 - val_accuracy: 0.8841\n",
            "Epoch 73/150\n",
            "60/60 [==============================] - 0s 8ms/step - loss: 0.3271 - accuracy: 0.8808 - val_loss: 0.3341 - val_accuracy: 0.8820\n",
            "Epoch 74/150\n",
            "60/60 [==============================] - 0s 8ms/step - loss: 0.3267 - accuracy: 0.8803 - val_loss: 0.3280 - val_accuracy: 0.8841\n",
            "Epoch 75/150\n",
            "60/60 [==============================] - 0s 8ms/step - loss: 0.3253 - accuracy: 0.8812 - val_loss: 0.3270 - val_accuracy: 0.8857\n",
            "Epoch 76/150\n",
            "60/60 [==============================] - 0s 8ms/step - loss: 0.3255 - accuracy: 0.8814 - val_loss: 0.3269 - val_accuracy: 0.8864\n",
            "Epoch 77/150\n",
            "60/60 [==============================] - 0s 8ms/step - loss: 0.3218 - accuracy: 0.8818 - val_loss: 0.3232 - val_accuracy: 0.8877\n",
            "Epoch 78/150\n",
            "60/60 [==============================] - 1s 8ms/step - loss: 0.3184 - accuracy: 0.8831 - val_loss: 0.3247 - val_accuracy: 0.8861\n",
            "Epoch 79/150\n",
            "60/60 [==============================] - 0s 8ms/step - loss: 0.3142 - accuracy: 0.8837 - val_loss: 0.3181 - val_accuracy: 0.8874\n",
            "Epoch 80/150\n",
            "60/60 [==============================] - 0s 8ms/step - loss: 0.3137 - accuracy: 0.8845 - val_loss: 0.3201 - val_accuracy: 0.8880\n",
            "Epoch 81/150\n",
            "60/60 [==============================] - 0s 8ms/step - loss: 0.3172 - accuracy: 0.8821 - val_loss: 0.3277 - val_accuracy: 0.8840\n",
            "Epoch 82/150\n",
            "60/60 [==============================] - 0s 8ms/step - loss: 0.3124 - accuracy: 0.8852 - val_loss: 0.3174 - val_accuracy: 0.8893\n",
            "Epoch 83/150\n",
            "60/60 [==============================] - 0s 8ms/step - loss: 0.3128 - accuracy: 0.8857 - val_loss: 0.3080 - val_accuracy: 0.8929\n",
            "Epoch 84/150\n",
            "60/60 [==============================] - 1s 8ms/step - loss: 0.3109 - accuracy: 0.8852 - val_loss: 0.3048 - val_accuracy: 0.8933\n",
            "Epoch 85/150\n",
            "60/60 [==============================] - 1s 8ms/step - loss: 0.3096 - accuracy: 0.8872 - val_loss: 0.3126 - val_accuracy: 0.8907\n",
            "Epoch 86/150\n",
            "60/60 [==============================] - 0s 8ms/step - loss: 0.3095 - accuracy: 0.8854 - val_loss: 0.3173 - val_accuracy: 0.8907\n",
            "Epoch 87/150\n",
            "60/60 [==============================] - 0s 8ms/step - loss: 0.3107 - accuracy: 0.8872 - val_loss: 0.3098 - val_accuracy: 0.8918\n",
            "Epoch 88/150\n",
            "60/60 [==============================] - 1s 8ms/step - loss: 0.3045 - accuracy: 0.8882 - val_loss: 0.3056 - val_accuracy: 0.8921\n",
            "Epoch 89/150\n",
            "60/60 [==============================] - 1s 8ms/step - loss: 0.3018 - accuracy: 0.8888 - val_loss: 0.3048 - val_accuracy: 0.8942\n",
            "Epoch 90/150\n",
            "60/60 [==============================] - 0s 8ms/step - loss: 0.3022 - accuracy: 0.8893 - val_loss: 0.3041 - val_accuracy: 0.8931\n",
            "Epoch 91/150\n",
            "60/60 [==============================] - 0s 8ms/step - loss: 0.2971 - accuracy: 0.8908 - val_loss: 0.3047 - val_accuracy: 0.8936\n",
            "Epoch 92/150\n",
            "60/60 [==============================] - 1s 8ms/step - loss: 0.2982 - accuracy: 0.8888 - val_loss: 0.3104 - val_accuracy: 0.8909\n",
            "Epoch 93/150\n",
            "60/60 [==============================] - 0s 8ms/step - loss: 0.2978 - accuracy: 0.8901 - val_loss: 0.2987 - val_accuracy: 0.8957\n",
            "Epoch 94/150\n",
            "60/60 [==============================] - 1s 8ms/step - loss: 0.2972 - accuracy: 0.8901 - val_loss: 0.3037 - val_accuracy: 0.8933\n",
            "Epoch 95/150\n",
            "60/60 [==============================] - 0s 8ms/step - loss: 0.2961 - accuracy: 0.8899 - val_loss: 0.3020 - val_accuracy: 0.8948\n",
            "Epoch 96/150\n",
            "60/60 [==============================] - 1s 11ms/step - loss: 0.2959 - accuracy: 0.8903 - val_loss: 0.3067 - val_accuracy: 0.8936\n",
            "Epoch 97/150\n",
            "60/60 [==============================] - 1s 10ms/step - loss: 0.2939 - accuracy: 0.8913 - val_loss: 0.3098 - val_accuracy: 0.8886\n",
            "Epoch 98/150\n",
            "60/60 [==============================] - 1s 13ms/step - loss: 0.2946 - accuracy: 0.8914 - val_loss: 0.3194 - val_accuracy: 0.8889\n",
            "Epoch 99/150\n",
            "60/60 [==============================] - 1s 8ms/step - loss: 0.2933 - accuracy: 0.8912 - val_loss: 0.2977 - val_accuracy: 0.8958\n",
            "Epoch 100/150\n",
            "60/60 [==============================] - 0s 8ms/step - loss: 0.2929 - accuracy: 0.8920 - val_loss: 0.2970 - val_accuracy: 0.8934\n",
            "Epoch 101/150\n",
            "60/60 [==============================] - 0s 8ms/step - loss: 0.2870 - accuracy: 0.8941 - val_loss: 0.2936 - val_accuracy: 0.8965\n",
            "Epoch 102/150\n",
            "60/60 [==============================] - 1s 9ms/step - loss: 0.2883 - accuracy: 0.8939 - val_loss: 0.2957 - val_accuracy: 0.8952\n",
            "Epoch 103/150\n",
            "60/60 [==============================] - 0s 8ms/step - loss: 0.2851 - accuracy: 0.8945 - val_loss: 0.2915 - val_accuracy: 0.8979\n",
            "Epoch 104/150\n",
            "60/60 [==============================] - 0s 8ms/step - loss: 0.2889 - accuracy: 0.8922 - val_loss: 0.2925 - val_accuracy: 0.9001\n",
            "Epoch 105/150\n",
            "60/60 [==============================] - 0s 8ms/step - loss: 0.2885 - accuracy: 0.8935 - val_loss: 0.2962 - val_accuracy: 0.8985\n",
            "Epoch 106/150\n",
            "60/60 [==============================] - 0s 8ms/step - loss: 0.2843 - accuracy: 0.8952 - val_loss: 0.2924 - val_accuracy: 0.8971\n",
            "Epoch 107/150\n",
            "60/60 [==============================] - 1s 9ms/step - loss: 0.2807 - accuracy: 0.8968 - val_loss: 0.2924 - val_accuracy: 0.8973\n",
            "Epoch 108/150\n",
            "60/60 [==============================] - 0s 8ms/step - loss: 0.2829 - accuracy: 0.8953 - val_loss: 0.2899 - val_accuracy: 0.9000\n",
            "Epoch 109/150\n",
            "60/60 [==============================] - 1s 9ms/step - loss: 0.2814 - accuracy: 0.8957 - val_loss: 0.2925 - val_accuracy: 0.8980\n",
            "Epoch 110/150\n",
            "60/60 [==============================] - 0s 8ms/step - loss: 0.2795 - accuracy: 0.8972 - val_loss: 0.2894 - val_accuracy: 0.8994\n",
            "Epoch 111/150\n",
            "60/60 [==============================] - 1s 9ms/step - loss: 0.2829 - accuracy: 0.8956 - val_loss: 0.3038 - val_accuracy: 0.8930\n",
            "Epoch 112/150\n",
            "60/60 [==============================] - 0s 8ms/step - loss: 0.2756 - accuracy: 0.8980 - val_loss: 0.3053 - val_accuracy: 0.8951\n",
            "Epoch 113/150\n",
            "60/60 [==============================] - 1s 8ms/step - loss: 0.2792 - accuracy: 0.8964 - val_loss: 0.2953 - val_accuracy: 0.8957\n",
            "Epoch 114/150\n",
            "60/60 [==============================] - 0s 8ms/step - loss: 0.2769 - accuracy: 0.8967 - val_loss: 0.2877 - val_accuracy: 0.9016\n",
            "Epoch 115/150\n",
            "60/60 [==============================] - 0s 8ms/step - loss: 0.2775 - accuracy: 0.8960 - val_loss: 0.2915 - val_accuracy: 0.8976\n",
            "Epoch 116/150\n",
            "60/60 [==============================] - 1s 8ms/step - loss: 0.2732 - accuracy: 0.8971 - val_loss: 0.2983 - val_accuracy: 0.8961\n",
            "Epoch 117/150\n",
            "60/60 [==============================] - 1s 9ms/step - loss: 0.2729 - accuracy: 0.8985 - val_loss: 0.2890 - val_accuracy: 0.9007\n",
            "Epoch 118/150\n",
            "60/60 [==============================] - 0s 8ms/step - loss: 0.2722 - accuracy: 0.8987 - val_loss: 0.2887 - val_accuracy: 0.8986\n",
            "Epoch 119/150\n",
            "60/60 [==============================] - 1s 9ms/step - loss: 0.2681 - accuracy: 0.9008 - val_loss: 0.2850 - val_accuracy: 0.9013\n",
            "Epoch 120/150\n",
            "60/60 [==============================] - 0s 8ms/step - loss: 0.2710 - accuracy: 0.8996 - val_loss: 0.2891 - val_accuracy: 0.8990\n",
            "Epoch 121/150\n",
            "60/60 [==============================] - 1s 9ms/step - loss: 0.2690 - accuracy: 0.8999 - val_loss: 0.2894 - val_accuracy: 0.8994\n",
            "Epoch 122/150\n",
            "60/60 [==============================] - 0s 8ms/step - loss: 0.2710 - accuracy: 0.8989 - val_loss: 0.2848 - val_accuracy: 0.9006\n",
            "Epoch 123/150\n",
            "60/60 [==============================] - 0s 8ms/step - loss: 0.2678 - accuracy: 0.9014 - val_loss: 0.2822 - val_accuracy: 0.9010\n",
            "Epoch 124/150\n",
            "60/60 [==============================] - 0s 8ms/step - loss: 0.2653 - accuracy: 0.9015 - val_loss: 0.2890 - val_accuracy: 0.9001\n"
          ]
        }
      ]
    },
    {
      "cell_type": "code",
      "source": [
        "hist = trained_history.history\n"
      ],
      "metadata": {
        "id": "yVWxYucowmaR"
      },
      "execution_count": null,
      "outputs": []
    },
    {
      "cell_type": "code",
      "source": [
        "plt.plot(hist['loss'], label='training loss')\n",
        "plt.plot(hist['val_loss'], label='validation_loss')\n",
        "plt.legend()\n",
        "plt.xlabel('no epochs')\n",
        "plt.ylabel('loss')"
      ],
      "metadata": {
        "colab": {
          "base_uri": "https://localhost:8080/",
          "height": 296
        },
        "id": "MY85K-k8xjEs",
        "outputId": "1f846ca5-2ff8-4804-8463-dd2b32dc9f35"
      },
      "execution_count": null,
      "outputs": [
        {
          "output_type": "execute_result",
          "data": {
            "text/plain": [
              "Text(0, 0.5, 'loss')"
            ]
          },
          "metadata": {},
          "execution_count": 17
        },
        {
          "output_type": "display_data",
          "data": {
            "text/plain": [
              "<Figure size 432x288 with 1 Axes>"
            ],
            "image/png": "[encoded data removed]"
          },
          "metadata": {
            "needs_background": "light"
          }
        }
      ]
    },
    {
      "cell_type": "code",
      "source": [
        "plt.plot(hist['accuracy'], label='training accuracy')\n",
        "plt.plot(hist['val_accuracy'], label='validation_accuracy')\n",
        "plt.legend()\n",
        "plt.xlabel('no epochs')\n",
        "plt.ylabel('accuracy')"
      ],
      "metadata": {
        "colab": {
          "base_uri": "https://localhost:8080/",
          "height": 296
        },
        "id": "WX489IL_yRFb",
        "outputId": "c8898b80-ee0f-4f2f-f8e6-c5b2f0c43bcb"
      },
      "execution_count": null,
      "outputs": [
        {
          "output_type": "execute_result",
          "data": {
            "text/plain": [
              "Text(0, 0.5, 'accuracy')"
            ]
          },
          "metadata": {},
          "execution_count": 18
        },
        {
          "output_type": "display_data",
          "data": {
            "text/plain": [
              "<Figure size 432x288 with 1 Axes>"
            ],
            "image/png": "[encoded data removed]"
          },
          "metadata": {
            "needs_background": "light"
          }
        }
      ]
    },
    {
      "cell_type": "code",
      "source": [
        "model.predict(x_test[9999].reshape(1,28,28,1))"
      ],
      "metadata": {
        "colab": {
          "base_uri": "https://localhost:8080/"
        },
        "id": "k5FJ2x7iyems",
        "outputId": "53693567-8b07-4de3-9f36-439b3732a653"
      },
      "execution_count": null,
      "outputs": [
        {
          "output_type": "execute_result",
          "data": {
            "text/plain": [
              "array([[1.4823806e-04, 2.2978787e-12, 3.6286042e-06, 1.0481805e-07,\n",
              "        8.6339005e-11, 9.3035418e-01, 2.2860606e-06, 4.5053281e-02,\n",
              "        2.3955930e-02, 4.8234497e-04]], dtype=float32)"
            ]
          },
          "metadata": {},
          "execution_count": 29
        }
      ]
    },
    {
      "cell_type": "code",
      "source": [
        "pred_index = np.argmax(model.predict(x_test[9999].reshape(1,28,28,1)))"
      ],
      "metadata": {
        "id": "M3xTn2tt2ODb"
      },
      "execution_count": null,
      "outputs": []
    },
    {
      "cell_type": "code",
      "source": [
        "pred_index"
      ],
      "metadata": {
        "colab": {
          "base_uri": "https://localhost:8080/"
        },
        "id": "yvEVnScI4laG",
        "outputId": "500f73af-17d7-4181-9ab5-dfe4d94e33f6"
      },
      "execution_count": null,
      "outputs": [
        {
          "output_type": "execute_result",
          "data": {
            "text/plain": [
              "5"
            ]
          },
          "metadata": {},
          "execution_count": 31
        }
      ]
    },
    {
      "cell_type": "code",
      "source": [
        "classes[pred_index]"
      ],
      "metadata": {
        "colab": {
          "base_uri": "https://localhost:8080/",
          "height": 36
        },
        "id": "cYiCIi-W4sM4",
        "outputId": "68101137-d74d-4cfe-97e8-6ee5b2cf90e6"
      },
      "execution_count": null,
      "outputs": [
        {
          "output_type": "execute_result",
          "data": {
            "text/plain": [
              "'Sandal'"
            ],
            "application/vnd.google.colaboratory.intrinsic+json": {
              "type": "string"
            }
          },
          "metadata": {},
          "execution_count": 32
        }
      ]
    },
    {
      "cell_type": "code",
      "source": [
        "plt.matshow(x_test[9999].reshape(28,28))"
      ],
      "metadata": {
        "colab": {
          "base_uri": "https://localhost:8080/",
          "height": 292
        },
        "id": "o70zsY2z4ztF",
        "outputId": "646521cc-0531-44b9-da51-d743e9c81515"
      },
      "execution_count": null,
      "outputs": [
        {
          "output_type": "execute_result",
          "data": {
            "text/plain": [
              "<matplotlib.image.AxesImage at 0x7f918a1aa6d0>"
            ]
          },
          "metadata": {},
          "execution_count": 33
        },
        {
          "output_type": "display_data",
          "data": {
            "text/plain": [
              "<Figure size 288x288 with 1 Axes>"
            ],
            "image/png": "[encoded data removed]"
          },
          "metadata": {
            "needs_background": "light"
          }
        }
      ]
    },
    {
      "cell_type": "code",
      "source": [],
      "metadata": {
        "id": "ZQDCDXyd5FGF"
      },
      "execution_count": null,
      "outputs": []
    }
  ]
}